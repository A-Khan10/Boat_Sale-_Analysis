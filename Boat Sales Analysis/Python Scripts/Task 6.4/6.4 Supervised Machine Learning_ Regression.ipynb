{
 "cells": [
  {
   "cell_type": "markdown",
   "id": "f54f234d",
   "metadata": {},
   "source": [
    "# Machine Learning \n",
    "\n",
    "### This Script contains the following:\n",
    "#### 01. Importing Libraries and Data \n",
    "#### 02. Data Cleaning\n",
    "#### 03. Data prep for Regression Analysis\n",
    "#### 04. Regression Analysis\n",
    "#### 05. Export the Data."
   ]
  },
  {
   "cell_type": "markdown",
   "id": "5e767515",
   "metadata": {},
   "source": [
    "## 01. Importing Libraries and Data "
   ]
  },
  {
   "cell_type": "code",
   "execution_count": 3,
   "id": "b9dda66a",
   "metadata": {},
   "outputs": [],
   "source": [
    "# Importing libraries \n",
    "import pandas as pd\n",
    "import numpy as np\n",
    "import seaborn as sns\n",
    "import matplotlib\n",
    "import matplotlib.pyplot as plt\n",
    "import os\n",
    "import sklearn\n",
    "from sklearn.model_selection import train_test_split \n",
    "from sklearn.linear_model import LinearRegression\n",
    "from sklearn.metrics import mean_squared_error, r2_score"
   ]
  },
  {
   "cell_type": "code",
   "execution_count": 4,
   "id": "a338ad0b",
   "metadata": {},
   "outputs": [],
   "source": [
    "# This option ensures that the graphs you create are displayed within the notebook without the need to \"call\" them specifically.\n",
    "%matplotlib inline"
   ]
  },
  {
   "cell_type": "code",
   "execution_count": 5,
   "id": "4751c12d",
   "metadata": {},
   "outputs": [],
   "source": [
    "# defing path\n",
    "path = r'/Users/Ayaz/Desktop/Boat Sales Analysis'"
   ]
  },
  {
   "cell_type": "code",
   "execution_count": 6,
   "id": "f8da3646",
   "metadata": {},
   "outputs": [],
   "source": [
    "# Importing data.\n",
    "df = pd.read_csv(os.path.join(path, '02 Data', 'Prepared Data', 'df_boats_sales.csv'), index_col = False)"
   ]
  },
  {
   "cell_type": "code",
   "execution_count": 7,
   "id": "f338e204",
   "metadata": {},
   "outputs": [],
   "source": [
    "# Display all rows without scrolling.\n",
    "pd.set_option('display.max_rows', None)"
   ]
  },
  {
   "cell_type": "markdown",
   "id": "b6c0fcba",
   "metadata": {},
   "source": [
    "## 02. Data Cleaning "
   ]
  },
  {
   "cell_type": "code",
   "execution_count": 8,
   "id": "c209fe12",
   "metadata": {},
   "outputs": [
    {
     "data": {
      "text/html": [
       "<div>\n",
       "<style scoped>\n",
       "    .dataframe tbody tr th:only-of-type {\n",
       "        vertical-align: middle;\n",
       "    }\n",
       "\n",
       "    .dataframe tbody tr th {\n",
       "        vertical-align: top;\n",
       "    }\n",
       "\n",
       "    .dataframe thead th {\n",
       "        text-align: right;\n",
       "    }\n",
       "</style>\n",
       "<table border=\"1\" class=\"dataframe\">\n",
       "  <thead>\n",
       "    <tr style=\"text-align: right;\">\n",
       "      <th></th>\n",
       "      <th>Unnamed: 0.1</th>\n",
       "      <th>Unnamed: 0</th>\n",
       "      <th>boat_type</th>\n",
       "      <th>manufacturer</th>\n",
       "      <th>type</th>\n",
       "      <th>year_built</th>\n",
       "      <th>length</th>\n",
       "      <th>width</th>\n",
       "      <th>material</th>\n",
       "      <th>views_last_7_days</th>\n",
       "      <th>currency</th>\n",
       "      <th>value</th>\n",
       "      <th>value_in_eur</th>\n",
       "      <th>country</th>\n",
       "    </tr>\n",
       "  </thead>\n",
       "  <tbody>\n",
       "    <tr>\n",
       "      <th>0</th>\n",
       "      <td>0</td>\n",
       "      <td>0</td>\n",
       "      <td>Motor Yacht</td>\n",
       "      <td>Rigiflex power boats</td>\n",
       "      <td>new boat from stock</td>\n",
       "      <td>2017</td>\n",
       "      <td>4.00</td>\n",
       "      <td>1.90</td>\n",
       "      <td>unknown</td>\n",
       "      <td>226</td>\n",
       "      <td>CHF</td>\n",
       "      <td>3337</td>\n",
       "      <td>3337.0</td>\n",
       "      <td>Switzerland</td>\n",
       "    </tr>\n",
       "    <tr>\n",
       "      <th>1</th>\n",
       "      <td>1</td>\n",
       "      <td>1</td>\n",
       "      <td>Center console boat</td>\n",
       "      <td>Terhi power boats</td>\n",
       "      <td>new boat from stock</td>\n",
       "      <td>2020</td>\n",
       "      <td>4.00</td>\n",
       "      <td>1.50</td>\n",
       "      <td>Thermoplastic</td>\n",
       "      <td>75</td>\n",
       "      <td>EUR</td>\n",
       "      <td>3490</td>\n",
       "      <td>3490.0</td>\n",
       "      <td>Germany</td>\n",
       "    </tr>\n",
       "    <tr>\n",
       "      <th>2</th>\n",
       "      <td>2</td>\n",
       "      <td>3</td>\n",
       "      <td>Sport Boat</td>\n",
       "      <td>Pioner power boats</td>\n",
       "      <td>new boat from stock</td>\n",
       "      <td>2020</td>\n",
       "      <td>3.00</td>\n",
       "      <td>1.00</td>\n",
       "      <td>unknown</td>\n",
       "      <td>64</td>\n",
       "      <td>DKK</td>\n",
       "      <td>25900</td>\n",
       "      <td>3367.0</td>\n",
       "      <td>Denmark</td>\n",
       "    </tr>\n",
       "    <tr>\n",
       "      <th>3</th>\n",
       "      <td>3</td>\n",
       "      <td>4</td>\n",
       "      <td>Fishing Boat</td>\n",
       "      <td>Linder power boats</td>\n",
       "      <td>new boat from stock</td>\n",
       "      <td>2019</td>\n",
       "      <td>3.55</td>\n",
       "      <td>1.46</td>\n",
       "      <td>Aluminium</td>\n",
       "      <td>58</td>\n",
       "      <td>EUR</td>\n",
       "      <td>3399</td>\n",
       "      <td>3399.0</td>\n",
       "      <td>Germany</td>\n",
       "    </tr>\n",
       "    <tr>\n",
       "      <th>4</th>\n",
       "      <td>4</td>\n",
       "      <td>6</td>\n",
       "      <td>Catamaran</td>\n",
       "      <td>unknown</td>\n",
       "      <td>Used boat,Unleaded</td>\n",
       "      <td>1999</td>\n",
       "      <td>6.20</td>\n",
       "      <td>2.38</td>\n",
       "      <td>Aluminium</td>\n",
       "      <td>474</td>\n",
       "      <td>CHF</td>\n",
       "      <td>3600</td>\n",
       "      <td>3600.0</td>\n",
       "      <td>Switzerland</td>\n",
       "    </tr>\n",
       "    <tr>\n",
       "      <th>5</th>\n",
       "      <td>5</td>\n",
       "      <td>8</td>\n",
       "      <td>Fishing Boat</td>\n",
       "      <td>Crescent power boats</td>\n",
       "      <td>new boat from stock</td>\n",
       "      <td>2019</td>\n",
       "      <td>3.64</td>\n",
       "      <td>1.37</td>\n",
       "      <td>unknown</td>\n",
       "      <td>45</td>\n",
       "      <td>EUR</td>\n",
       "      <td>3333</td>\n",
       "      <td>3333.0</td>\n",
       "      <td>Germany</td>\n",
       "    </tr>\n",
       "    <tr>\n",
       "      <th>6</th>\n",
       "      <td>6</td>\n",
       "      <td>9</td>\n",
       "      <td>Pontoon Boat</td>\n",
       "      <td>Whaly power boats</td>\n",
       "      <td>new boat from stock</td>\n",
       "      <td>2018</td>\n",
       "      <td>4.35</td>\n",
       "      <td>1.73</td>\n",
       "      <td>unknown</td>\n",
       "      <td>180</td>\n",
       "      <td>EUR</td>\n",
       "      <td>3300</td>\n",
       "      <td>3300.0</td>\n",
       "      <td>Italy</td>\n",
       "    </tr>\n",
       "    <tr>\n",
       "      <th>7</th>\n",
       "      <td>7</td>\n",
       "      <td>10</td>\n",
       "      <td>Fishing Boat</td>\n",
       "      <td>Terhi power boats</td>\n",
       "      <td>Used boat,Electric</td>\n",
       "      <td>1987</td>\n",
       "      <td>4.35</td>\n",
       "      <td>1.75</td>\n",
       "      <td>GRP</td>\n",
       "      <td>239</td>\n",
       "      <td>CHF</td>\n",
       "      <td>3500</td>\n",
       "      <td>3500.0</td>\n",
       "      <td>Switzerland</td>\n",
       "    </tr>\n",
       "    <tr>\n",
       "      <th>8</th>\n",
       "      <td>8</td>\n",
       "      <td>12</td>\n",
       "      <td>Sport Boat</td>\n",
       "      <td>GS Nautica power boats</td>\n",
       "      <td>Used boat</td>\n",
       "      <td>2004</td>\n",
       "      <td>4.70</td>\n",
       "      <td>2.00</td>\n",
       "      <td>GRP</td>\n",
       "      <td>69</td>\n",
       "      <td>EUR</td>\n",
       "      <td>3500</td>\n",
       "      <td>3500.0</td>\n",
       "      <td>Italy</td>\n",
       "    </tr>\n",
       "    <tr>\n",
       "      <th>9</th>\n",
       "      <td>9</td>\n",
       "      <td>13</td>\n",
       "      <td>Runabout</td>\n",
       "      <td>Kimple power boats</td>\n",
       "      <td>new boat from stock</td>\n",
       "      <td>2020</td>\n",
       "      <td>4.40</td>\n",
       "      <td>1.65</td>\n",
       "      <td>Aluminium</td>\n",
       "      <td>113</td>\n",
       "      <td>CHF</td>\n",
       "      <td>4600</td>\n",
       "      <td>4600.0</td>\n",
       "      <td>Switzerland</td>\n",
       "    </tr>\n",
       "  </tbody>\n",
       "</table>\n",
       "</div>"
      ],
      "text/plain": [
       "   Unnamed: 0.1  Unnamed: 0            boat_type            manufacturer  \\\n",
       "0             0           0          Motor Yacht    Rigiflex power boats   \n",
       "1             1           1  Center console boat       Terhi power boats   \n",
       "2             2           3           Sport Boat      Pioner power boats   \n",
       "3             3           4         Fishing Boat      Linder power boats   \n",
       "4             4           6            Catamaran                 unknown   \n",
       "5             5           8         Fishing Boat    Crescent power boats   \n",
       "6             6           9         Pontoon Boat       Whaly power boats   \n",
       "7             7          10         Fishing Boat       Terhi power boats   \n",
       "8             8          12           Sport Boat  GS Nautica power boats   \n",
       "9             9          13             Runabout      Kimple power boats   \n",
       "\n",
       "                  type  year_built  length  width       material  \\\n",
       "0  new boat from stock        2017    4.00   1.90        unknown   \n",
       "1  new boat from stock        2020    4.00   1.50  Thermoplastic   \n",
       "2  new boat from stock        2020    3.00   1.00        unknown   \n",
       "3  new boat from stock        2019    3.55   1.46      Aluminium   \n",
       "4   Used boat,Unleaded        1999    6.20   2.38      Aluminium   \n",
       "5  new boat from stock        2019    3.64   1.37        unknown   \n",
       "6  new boat from stock        2018    4.35   1.73        unknown   \n",
       "7   Used boat,Electric        1987    4.35   1.75            GRP   \n",
       "8            Used boat        2004    4.70   2.00            GRP   \n",
       "9  new boat from stock        2020    4.40   1.65      Aluminium   \n",
       "\n",
       "   views_last_7_days currency  value  value_in_eur      country  \n",
       "0                226      CHF   3337        3337.0  Switzerland  \n",
       "1                 75      EUR   3490        3490.0      Germany  \n",
       "2                 64      DKK  25900        3367.0      Denmark  \n",
       "3                 58      EUR   3399        3399.0      Germany  \n",
       "4                474      CHF   3600        3600.0  Switzerland  \n",
       "5                 45      EUR   3333        3333.0      Germany  \n",
       "6                180      EUR   3300        3300.0        Italy  \n",
       "7                239      CHF   3500        3500.0  Switzerland  \n",
       "8                 69      EUR   3500        3500.0        Italy  \n",
       "9                113      CHF   4600        4600.0  Switzerland  "
      ]
     },
     "execution_count": 8,
     "metadata": {},
     "output_type": "execute_result"
    }
   ],
   "source": [
    "df.head(10)"
   ]
  },
  {
   "cell_type": "code",
   "execution_count": 9,
   "id": "d4e72a0d",
   "metadata": {},
   "outputs": [],
   "source": [
    "# Drop the specified columns\n",
    "df.drop(['Unnamed: 0', 'Unnamed: 0.1'], axis=1, inplace=True)"
   ]
  },
  {
   "cell_type": "code",
   "execution_count": 10,
   "id": "ab435609",
   "metadata": {},
   "outputs": [
    {
     "data": {
      "text/plain": [
       "(9192, 12)"
      ]
     },
     "execution_count": 10,
     "metadata": {},
     "output_type": "execute_result"
    }
   ],
   "source": [
    "df.shape"
   ]
  },
  {
   "cell_type": "markdown",
   "id": "8397c00b",
   "metadata": {},
   "source": [
    "### Missing values"
   ]
  },
  {
   "cell_type": "code",
   "execution_count": 11,
   "id": "e065e0ee",
   "metadata": {},
   "outputs": [
    {
     "data": {
      "text/plain": [
       "boat_type            0\n",
       "manufacturer         0\n",
       "type                 0\n",
       "year_built           0\n",
       "length               0\n",
       "width                0\n",
       "material             0\n",
       "views_last_7_days    0\n",
       "currency             0\n",
       "value                0\n",
       "value_in_eur         0\n",
       "country              0\n",
       "dtype: int64"
      ]
     },
     "execution_count": 11,
     "metadata": {},
     "output_type": "execute_result"
    }
   ],
   "source": [
    "# checking for missing values in dataframe\n",
    "df.isnull().sum()\n",
    "# No missing values."
   ]
  },
  {
   "cell_type": "markdown",
   "id": "27002764",
   "metadata": {},
   "source": [
    "### Duplicates check"
   ]
  },
  {
   "cell_type": "code",
   "execution_count": 12,
   "id": "3c608faa",
   "metadata": {},
   "outputs": [],
   "source": [
    "# checking for Duplicates in dataframe\n",
    "dups = df.duplicated()"
   ]
  },
  {
   "cell_type": "code",
   "execution_count": 13,
   "id": "9508ba77",
   "metadata": {},
   "outputs": [
    {
     "data": {
      "text/plain": [
       "(9192, 12)"
      ]
     },
     "execution_count": 13,
     "metadata": {},
     "output_type": "execute_result"
    }
   ],
   "source": [
    "df.shape"
   ]
  },
  {
   "cell_type": "code",
   "execution_count": 15,
   "id": "3b4f0c64",
   "metadata": {},
   "outputs": [
    {
     "data": {
      "text/plain": [
       "(9192,)"
      ]
     },
     "execution_count": 15,
     "metadata": {},
     "output_type": "execute_result"
    }
   ],
   "source": [
    "dups.shape\n",
    "# No duplicates were found."
   ]
  },
  {
   "cell_type": "markdown",
   "id": "640be54f",
   "metadata": {},
   "source": [
    "### Extreme values checks"
   ]
  },
  {
   "cell_type": "code",
   "execution_count": 18,
   "id": "24b492f9",
   "metadata": {},
   "outputs": [
    {
     "name": "stderr",
     "output_type": "stream",
     "text": [
      "/var/folders/44/7xyg5dc91nb96tdj20w49k0r0000gp/T/ipykernel_49441/4191407604.py:1: UserWarning: \n",
      "\n",
      "`distplot` is a deprecated function and will be removed in seaborn v0.14.0.\n",
      "\n",
      "Please adapt your code to use either `displot` (a figure-level function with\n",
      "similar flexibility) or `histplot` (an axes-level function for histograms).\n",
      "\n",
      "For a guide to updating your code to use the new functions, please see\n",
      "https://gist.github.com/mwaskom/de44147ed2974457ad6372750bbe5751\n",
      "\n",
      "  sns.distplot(df['value_in_eur'], bins=70) # Shows extreme values\n"
     ]
    },
    {
     "data": {
      "text/plain": [
       "<Axes: xlabel='value_in_eur', ylabel='Density'>"
      ]
     },
     "execution_count": 18,
     "metadata": {},
     "output_type": "execute_result"
    },
    {
     "data": {
      "image/png": "[encoded data removed]",
      "text/plain": [
       "<Figure size 640x480 with 1 Axes>"
      ]
     },
     "metadata": {},
     "output_type": "display_data"
    }
   ],
   "source": [
    "sns.distplot(df['value_in_eur'], bins=70) # Shows extreme values\n"
   ]
  },
  {
   "cell_type": "code",
   "execution_count": 19,
   "id": "b96b98d8",
   "metadata": {},
   "outputs": [
    {
     "name": "stderr",
     "output_type": "stream",
     "text": [
      "/var/folders/44/7xyg5dc91nb96tdj20w49k0r0000gp/T/ipykernel_49441/578365260.py:1: UserWarning: \n",
      "\n",
      "`distplot` is a deprecated function and will be removed in seaborn v0.14.0.\n",
      "\n",
      "Please adapt your code to use either `displot` (a figure-level function with\n",
      "similar flexibility) or `histplot` (an axes-level function for histograms).\n",
      "\n",
      "For a guide to updating your code to use the new functions, please see\n",
      "https://gist.github.com/mwaskom/de44147ed2974457ad6372750bbe5751\n",
      "\n",
      "  sns.distplot(df['views_last_7_days'], bins=25) # Shows extreme values\n"
     ]
    },
    {
     "data": {
      "text/plain": [
       "<Axes: xlabel='views_last_7_days', ylabel='Density'>"
      ]
     },
     "execution_count": 19,
     "metadata": {},
     "output_type": "execute_result"
    },
    {
     "data": {
      "image/png": "[encoded data removed]",
      "text/plain": [
       "<Figure size 640x480 with 1 Axes>"
      ]
     },
     "metadata": {},
     "output_type": "display_data"
    }
   ],
   "source": [
    "sns.distplot(df['views_last_7_days'], bins=25) # Shows extreme values"
   ]
  },
  {
   "cell_type": "code",
   "execution_count": 20,
   "id": "59dac9dc",
   "metadata": {},
   "outputs": [
    {
     "name": "stderr",
     "output_type": "stream",
     "text": [
      "/var/folders/44/7xyg5dc91nb96tdj20w49k0r0000gp/T/ipykernel_49441/1126373353.py:1: UserWarning: \n",
      "\n",
      "`distplot` is a deprecated function and will be removed in seaborn v0.14.0.\n",
      "\n",
      "Please adapt your code to use either `displot` (a figure-level function with\n",
      "similar flexibility) or `histplot` (an axes-level function for histograms).\n",
      "\n",
      "For a guide to updating your code to use the new functions, please see\n",
      "https://gist.github.com/mwaskom/de44147ed2974457ad6372750bbe5751\n",
      "\n",
      "  sns.distplot(df['year_built'], bins=25) # Shows extreme values\n"
     ]
    },
    {
     "data": {
      "text/plain": [
       "<Axes: xlabel='year_built', ylabel='Density'>"
      ]
     },
     "execution_count": 20,
     "metadata": {},
     "output_type": "execute_result"
    },
    {
     "data": {
      "image/png": "[encoded data removed]",
      "text/plain": [
       "<Figure size 640x480 with 1 Axes>"
      ]
     },
     "metadata": {},
     "output_type": "display_data"
    }
   ],
   "source": [
    "sns.distplot(df['year_built'], bins=25) # Shows extreme values"
   ]
  },
  {
   "cell_type": "code",
   "execution_count": 21,
   "id": "57dd78b4",
   "metadata": {},
   "outputs": [
    {
     "name": "stderr",
     "output_type": "stream",
     "text": [
      "/var/folders/44/7xyg5dc91nb96tdj20w49k0r0000gp/T/ipykernel_49441/3248100109.py:1: UserWarning: \n",
      "\n",
      "`distplot` is a deprecated function and will be removed in seaborn v0.14.0.\n",
      "\n",
      "Please adapt your code to use either `displot` (a figure-level function with\n",
      "similar flexibility) or `histplot` (an axes-level function for histograms).\n",
      "\n",
      "For a guide to updating your code to use the new functions, please see\n",
      "https://gist.github.com/mwaskom/de44147ed2974457ad6372750bbe5751\n",
      "\n",
      "  sns.distplot(df['length'], bins=25) # Shows extreme values\n"
     ]
    },
    {
     "data": {
      "text/plain": [
       "<Axes: xlabel='length', ylabel='Density'>"
      ]
     },
     "execution_count": 21,
     "metadata": {},
     "output_type": "execute_result"
    },
    {
     "data": {
      "image/png": "[encoded data removed]",
      "text/plain": [
       "<Figure size 640x480 with 1 Axes>"
      ]
     },
     "metadata": {},
     "output_type": "display_data"
    }
   ],
   "source": [
    "sns.distplot(df['length'], bins=25) # Shows extreme values"
   ]
  },
  {
   "cell_type": "code",
   "execution_count": 26,
   "id": "c19f1412",
   "metadata": {},
   "outputs": [
    {
     "data": {
      "text/plain": [
       "301799.16784377716"
      ]
     },
     "execution_count": 26,
     "metadata": {},
     "output_type": "execute_result"
    }
   ],
   "source": [
    "df['value_in_eur'].mean() # Check the mean"
   ]
  },
  {
   "cell_type": "code",
   "execution_count": 27,
   "id": "9eee2cbf",
   "metadata": {},
   "outputs": [
    {
     "data": {
      "text/plain": [
       "95829.5"
      ]
     },
     "execution_count": 27,
     "metadata": {},
     "output_type": "execute_result"
    }
   ],
   "source": [
    "df['value_in_eur'].median() # Check the median"
   ]
  },
  {
   "cell_type": "code",
   "execution_count": 28,
   "id": "e7cd6d42",
   "metadata": {},
   "outputs": [
    {
     "data": {
      "text/plain": [
       "31000000.0"
      ]
     },
     "execution_count": 28,
     "metadata": {},
     "output_type": "execute_result"
    }
   ],
   "source": [
    "df['value_in_eur'].max() # Check the max"
   ]
  },
  {
   "cell_type": "markdown",
   "id": "b8e1e987",
   "metadata": {},
   "source": [
    "## 03. Data prep for regression analysis"
   ]
  },
  {
   "cell_type": "code",
   "execution_count": 29,
   "id": "934a3561",
   "metadata": {},
   "outputs": [
    {
     "data": {
      "image/png": "[encoded data removed]",
      "text/plain": [
       "<Figure size 640x480 with 1 Axes>"
      ]
     },
     "metadata": {},
     "output_type": "display_data"
    }
   ],
   "source": [
    "# Create a scatterplot using matplotlib for another look at how the chosen variables plot against each other.\n",
    "df.plot(x = 'views_last_7_days', y='value_in_eur',style='o') # The style option creates a scatterplot; without it, we only have lines.\n",
    "plt.title('View in 7 days vs Price')  \n",
    "plt.xlabel('views_last_7_days')  \n",
    "plt.ylabel('value_in_eur')  \n",
    "plt.show()"
   ]
  },
  {
   "cell_type": "markdown",
   "id": "bd9e2fc3",
   "metadata": {},
   "source": [
    "### Hypothesis\n",
    "\n",
    "Lower-priced boats get more views. price goes down, the views go up."
   ]
  },
  {
   "cell_type": "code",
   "execution_count": 30,
   "id": "d152c3a0",
   "metadata": {},
   "outputs": [],
   "source": [
    "# 1. reshape to arrays to use sklearn library\n",
    "# Reshape the variables into NumPy arrays and put them into separate objects.\n",
    "\n",
    "X = df['views_last_7_days'].values.reshape(-1,1)\n",
    "y = df['value_in_eur'].values.reshape(-1,1)"
   ]
  },
  {
   "cell_type": "code",
   "execution_count": 31,
   "id": "c1d0e278",
   "metadata": {},
   "outputs": [
    {
     "data": {
      "text/plain": [
       "array([[226],\n",
       "       [ 75],\n",
       "       [ 64],\n",
       "       ...,\n",
       "       [354],\n",
       "       [266],\n",
       "       [194]])"
      ]
     },
     "execution_count": 31,
     "metadata": {},
     "output_type": "execute_result"
    }
   ],
   "source": [
    "# check to see if array\n",
    "X"
   ]
  },
  {
   "cell_type": "code",
   "execution_count": 32,
   "id": "13dc001a",
   "metadata": {},
   "outputs": [
    {
     "data": {
      "text/plain": [
       "array([[3337.],\n",
       "       [3490.],\n",
       "       [3367.],\n",
       "       ...,\n",
       "       [4499.],\n",
       "       [4300.],\n",
       "       [3780.]])"
      ]
     },
     "execution_count": 32,
     "metadata": {},
     "output_type": "execute_result"
    }
   ],
   "source": [
    "y"
   ]
  },
  {
   "cell_type": "code",
   "execution_count": 33,
   "id": "891ebf44",
   "metadata": {},
   "outputs": [],
   "source": [
    "# Split the data into a training set and a test set.\n",
    "X_train, X_test, y_train, y_test = train_test_split(X, y, test_size=0.3, random_state=0)"
   ]
  },
  {
   "cell_type": "markdown",
   "id": "4081b0db",
   "metadata": {},
   "source": [
    "## 04. Regression Analysis"
   ]
  },
  {
   "cell_type": "code",
   "execution_count": 34,
   "id": "6d4adc15",
   "metadata": {},
   "outputs": [],
   "source": [
    "# Create a regression object.\n",
    "\n",
    "regression = LinearRegression()"
   ]
  },
  {
   "cell_type": "code",
   "execution_count": 35,
   "id": "5023a791",
   "metadata": {},
   "outputs": [
    {
     "data": {
      "text/html": [
       "<style>#sk-container-id-1 {color: black;}#sk-container-id-1 pre{padding: 0;}#sk-container-id-1 div.sk-toggleable {background-color: white;}#sk-container-id-1 label.sk-toggleable__label {cursor: pointer;display: block;width: 100%;margin-bottom: 0;padding: 0.3em;box-sizing: border-box;text-align: center;}#sk-container-id-1 label.sk-toggleable__label-arrow:before {content: \"▸\";float: left;margin-right: 0.25em;color: #696969;}#sk-container-id-1 label.sk-toggleable__label-arrow:hover:before {color: black;}#sk-container-id-1 div.sk-estimator:hover label.sk-toggleable__label-arrow:before {color: black;}#sk-container-id-1 div.sk-toggleable__content {max-height: 0;max-width: 0;overflow: hidden;text-align: left;background-color: #f0f8ff;}#sk-container-id-1 div.sk-toggleable__content pre {margin: 0.2em;color: black;border-radius: 0.25em;background-color: #f0f8ff;}#sk-container-id-1 input.sk-toggleable__control:checked~div.sk-toggleable__content {max-height: 200px;max-width: 100%;overflow: auto;}#sk-container-id-1 input.sk-toggleable__control:checked~label.sk-toggleable__label-arrow:before {content: \"▾\";}#sk-container-id-1 div.sk-estimator input.sk-toggleable__control:checked~label.sk-toggleable__label {background-color: #d4ebff;}#sk-container-id-1 div.sk-label input.sk-toggleable__control:checked~label.sk-toggleable__label {background-color: #d4ebff;}#sk-container-id-1 input.sk-hidden--visually {border: 0;clip: rect(1px 1px 1px 1px);clip: rect(1px, 1px, 1px, 1px);height: 1px;margin: -1px;overflow: hidden;padding: 0;position: absolute;width: 1px;}#sk-container-id-1 div.sk-estimator {font-family: monospace;background-color: #f0f8ff;border: 1px dotted black;border-radius: 0.25em;box-sizing: border-box;margin-bottom: 0.5em;}#sk-container-id-1 div.sk-estimator:hover {background-color: #d4ebff;}#sk-container-id-1 div.sk-parallel-item::after {content: \"\";width: 100%;border-bottom: 1px solid gray;flex-grow: 1;}#sk-container-id-1 div.sk-label:hover label.sk-toggleable__label {background-color: #d4ebff;}#sk-container-id-1 div.sk-serial::before {content: \"\";position: absolute;border-left: 1px solid gray;box-sizing: border-box;top: 0;bottom: 0;left: 50%;z-index: 0;}#sk-container-id-1 div.sk-serial {display: flex;flex-direction: column;align-items: center;background-color: white;padding-right: 0.2em;padding-left: 0.2em;position: relative;}#sk-container-id-1 div.sk-item {position: relative;z-index: 1;}#sk-container-id-1 div.sk-parallel {display: flex;align-items: stretch;justify-content: center;background-color: white;position: relative;}#sk-container-id-1 div.sk-item::before, #sk-container-id-1 div.sk-parallel-item::before {content: \"\";position: absolute;border-left: 1px solid gray;box-sizing: border-box;top: 0;bottom: 0;left: 50%;z-index: -1;}#sk-container-id-1 div.sk-parallel-item {display: flex;flex-direction: column;z-index: 1;position: relative;background-color: white;}#sk-container-id-1 div.sk-parallel-item:first-child::after {align-self: flex-end;width: 50%;}#sk-container-id-1 div.sk-parallel-item:last-child::after {align-self: flex-start;width: 50%;}#sk-container-id-1 div.sk-parallel-item:only-child::after {width: 0;}#sk-container-id-1 div.sk-dashed-wrapped {border: 1px dashed gray;margin: 0 0.4em 0.5em 0.4em;box-sizing: border-box;padding-bottom: 0.4em;background-color: white;}#sk-container-id-1 div.sk-label label {font-family: monospace;font-weight: bold;display: inline-block;line-height: 1.2em;}#sk-container-id-1 div.sk-label-container {text-align: center;}#sk-container-id-1 div.sk-container {/* jupyter's `normalize.less` sets `[hidden] { display: none; }` but bootstrap.min.css set `[hidden] { display: none !important; }` so we also need the `!important` here to be able to override the default hidden behavior on the sphinx rendered scikit-learn.org. See: https://github.com/scikit-learn/scikit-learn/issues/21755 */display: inline-block !important;position: relative;}#sk-container-id-1 div.sk-text-repr-fallback {display: none;}</style><div id=\"sk-container-id-1\" class=\"sk-top-container\"><div class=\"sk-text-repr-fallback\"><pre>LinearRegression()</pre><b>In a Jupyter environment, please rerun this cell to show the HTML representation or trust the notebook. <br />On GitHub, the HTML representation is unable to render, please try loading this page with nbviewer.org.</b></div><div class=\"sk-container\" hidden><div class=\"sk-item\"><div class=\"sk-estimator sk-toggleable\"><input class=\"sk-toggleable__control sk-hidden--visually\" id=\"sk-estimator-id-1\" type=\"checkbox\" checked><label for=\"sk-estimator-id-1\" class=\"sk-toggleable__label sk-toggleable__label-arrow\">LinearRegression</label><div class=\"sk-toggleable__content\"><pre>LinearRegression()</pre></div></div></div></div></div>"
      ],
      "text/plain": [
       "LinearRegression()"
      ]
     },
     "execution_count": 35,
     "metadata": {},
     "output_type": "execute_result"
    }
   ],
   "source": [
    "# Fit the regression object onto the training set.\n",
    "\n",
    "regression.fit(X_train, y_train)"
   ]
  },
  {
   "cell_type": "code",
   "execution_count": 36,
   "id": "010ba4ee",
   "metadata": {},
   "outputs": [],
   "source": [
    "# predict y with X test data\n",
    "y_predicted = regression.predict(X_test)\n"
   ]
  },
  {
   "cell_type": "code",
   "execution_count": 37,
   "id": "e35027ae",
   "metadata": {},
   "outputs": [
    {
     "data": {
      "image/png": "[encoded data removed]",
      "text/plain": [
       "<Figure size 640x480 with 1 Axes>"
      ]
     },
     "metadata": {},
     "output_type": "display_data"
    }
   ],
   "source": [
    "# Create a plot that shows the regression line from the model on the test set.\n",
    "\n",
    "plot_test = plt\n",
    "plot_test.scatter(X_test, y_test, color='black', s = 18)\n",
    "plot_test.plot(X_test, y_predicted, color='red', linewidth = 1)\n",
    "plot_test.title('Views in 7 days vs Price per Boat (Test set)')\n",
    "plot_test.xlabel('Views in 7 Days')\n",
    "plot_test.ylabel('Price per Boat')\n",
    "plot_test.show()"
   ]
  },
  {
   "cell_type": "code",
   "execution_count": 38,
   "id": "49e1cf78",
   "metadata": {},
   "outputs": [],
   "source": [
    "# Create objects that contain the model summary statistics.\n",
    "rmse = mean_squared_error(y_test, y_predicted) # This is the mean squared error\n",
    "r2 = r2_score(y_test, y_predicted) # This is the R2 score. "
   ]
  },
  {
   "cell_type": "code",
   "execution_count": 39,
   "id": "486d16d0",
   "metadata": {},
   "outputs": [
    {
     "name": "stdout",
     "output_type": "stream",
     "text": [
      "Slope: [[61.39934726]]\n",
      "Mean squared error:  594799535839.0441\n",
      "R2 score:  -0.001760916000020929\n"
     ]
    }
   ],
   "source": [
    "# Print the model summary statistics. This is where you evaluate the performance of the model.\n",
    "print('Slope:' ,regression.coef_)\n",
    "print('Mean squared error: ', rmse)\n",
    "print('R2 score: ', r2)"
   ]
  },
  {
   "cell_type": "markdown",
   "id": "e5095ab6",
   "metadata": {},
   "source": [
    "### Interpretation:\n",
    "\n",
    "Slope Coefficient: The change in the dependent variable for a one-unit change in the independent variable is represented by the slope value of about 61.4. It denotes the size and direction of the link between the variables.\n",
    "\n",
    "Mean Squared Error(MSE): The average squared difference between expected and actual values is measured by the mean squared error (MSE). A high MSE score, such as 594,799,535,839.04, indicates a poor fit of the model to the data, meaning significant prediction errors.\n",
    "\n",
    "R2 Score: The R-squared (R2) score of around -0.00176 reflects the regression model's quality of fit. A low R2 value indicates that the model performs poorly and does not explain the data variation. It denotes a very weak or non-existent linear relationship between the variables in this scenario.\n",
    "\n",
    "Overall, the findings indicate that the linear regression model used does not give a good fit for the data, as evidenced by the high MSE and negative R2 score, implying that the model's predictions are inaccurate or useless. To better comprehend the data, more analysis or a different model may be required.\n"
   ]
  },
  {
   "cell_type": "code",
   "execution_count": 40,
   "id": "f9f64522",
   "metadata": {},
   "outputs": [
    {
     "data": {
      "text/html": [
       "<div>\n",
       "<style scoped>\n",
       "    .dataframe tbody tr th:only-of-type {\n",
       "        vertical-align: middle;\n",
       "    }\n",
       "\n",
       "    .dataframe tbody tr th {\n",
       "        vertical-align: top;\n",
       "    }\n",
       "\n",
       "    .dataframe thead th {\n",
       "        text-align: right;\n",
       "    }\n",
       "</style>\n",
       "<table border=\"1\" class=\"dataframe\">\n",
       "  <thead>\n",
       "    <tr style=\"text-align: right;\">\n",
       "      <th></th>\n",
       "      <th>Actual</th>\n",
       "      <th>Predicted</th>\n",
       "    </tr>\n",
       "  </thead>\n",
       "  <tbody>\n",
       "    <tr>\n",
       "      <th>0</th>\n",
       "      <td>35000.0</td>\n",
       "      <td>306476.247540</td>\n",
       "    </tr>\n",
       "    <tr>\n",
       "      <th>1</th>\n",
       "      <td>14950.0</td>\n",
       "      <td>321703.285660</td>\n",
       "    </tr>\n",
       "    <tr>\n",
       "      <th>2</th>\n",
       "      <td>885000.0</td>\n",
       "      <td>301441.501065</td>\n",
       "    </tr>\n",
       "    <tr>\n",
       "      <th>3</th>\n",
       "      <td>4900.0</td>\n",
       "      <td>309976.010334</td>\n",
       "    </tr>\n",
       "    <tr>\n",
       "      <th>4</th>\n",
       "      <td>65000.0</td>\n",
       "      <td>343008.859159</td>\n",
       "    </tr>\n",
       "    <tr>\n",
       "      <th>5</th>\n",
       "      <td>949000.0</td>\n",
       "      <td>305493.857984</td>\n",
       "    </tr>\n",
       "    <tr>\n",
       "      <th>6</th>\n",
       "      <td>24500.0</td>\n",
       "      <td>318326.321561</td>\n",
       "    </tr>\n",
       "    <tr>\n",
       "      <th>7</th>\n",
       "      <td>39170.0</td>\n",
       "      <td>313844.169211</td>\n",
       "    </tr>\n",
       "    <tr>\n",
       "      <th>8</th>\n",
       "      <td>69000.0</td>\n",
       "      <td>304327.270386</td>\n",
       "    </tr>\n",
       "    <tr>\n",
       "      <th>9</th>\n",
       "      <td>119600.0</td>\n",
       "      <td>302915.085399</td>\n",
       "    </tr>\n",
       "    <tr>\n",
       "      <th>10</th>\n",
       "      <td>19500.0</td>\n",
       "      <td>322440.077828</td>\n",
       "    </tr>\n",
       "    <tr>\n",
       "      <th>11</th>\n",
       "      <td>16500.0</td>\n",
       "      <td>301994.095190</td>\n",
       "    </tr>\n",
       "    <tr>\n",
       "      <th>12</th>\n",
       "      <td>359000.0</td>\n",
       "      <td>300766.108245</td>\n",
       "    </tr>\n",
       "    <tr>\n",
       "      <th>13</th>\n",
       "      <td>14750.0</td>\n",
       "      <td>303774.676261</td>\n",
       "    </tr>\n",
       "    <tr>\n",
       "      <th>14</th>\n",
       "      <td>185000.0</td>\n",
       "      <td>322440.077828</td>\n",
       "    </tr>\n",
       "    <tr>\n",
       "      <th>15</th>\n",
       "      <td>44900.0</td>\n",
       "      <td>307642.835138</td>\n",
       "    </tr>\n",
       "    <tr>\n",
       "      <th>16</th>\n",
       "      <td>106750.0</td>\n",
       "      <td>302608.088663</td>\n",
       "    </tr>\n",
       "    <tr>\n",
       "      <th>17</th>\n",
       "      <td>58700.0</td>\n",
       "      <td>304020.273650</td>\n",
       "    </tr>\n",
       "    <tr>\n",
       "      <th>18</th>\n",
       "      <td>67830.0</td>\n",
       "      <td>314458.162684</td>\n",
       "    </tr>\n",
       "    <tr>\n",
       "      <th>19</th>\n",
       "      <td>27500.0</td>\n",
       "      <td>302485.289968</td>\n",
       "    </tr>\n",
       "    <tr>\n",
       "      <th>20</th>\n",
       "      <td>12000.0</td>\n",
       "      <td>317405.331352</td>\n",
       "    </tr>\n",
       "    <tr>\n",
       "      <th>21</th>\n",
       "      <td>195000.0</td>\n",
       "      <td>300766.108245</td>\n",
       "    </tr>\n",
       "    <tr>\n",
       "      <th>22</th>\n",
       "      <td>12500.0</td>\n",
       "      <td>325080.249760</td>\n",
       "    </tr>\n",
       "    <tr>\n",
       "      <th>23</th>\n",
       "      <td>50000.0</td>\n",
       "      <td>303590.478219</td>\n",
       "    </tr>\n",
       "    <tr>\n",
       "      <th>24</th>\n",
       "      <td>205000.0</td>\n",
       "      <td>302546.689316</td>\n",
       "    </tr>\n",
       "    <tr>\n",
       "      <th>25</th>\n",
       "      <td>160000.0</td>\n",
       "      <td>314826.558767</td>\n",
       "    </tr>\n",
       "    <tr>\n",
       "      <th>26</th>\n",
       "      <td>690000.0</td>\n",
       "      <td>305923.653415</td>\n",
       "    </tr>\n",
       "    <tr>\n",
       "      <th>27</th>\n",
       "      <td>85000.0</td>\n",
       "      <td>303897.474955</td>\n",
       "    </tr>\n",
       "    <tr>\n",
       "      <th>28</th>\n",
       "      <td>48678.0</td>\n",
       "      <td>299906.517384</td>\n",
       "    </tr>\n",
       "    <tr>\n",
       "      <th>29</th>\n",
       "      <td>480000.0</td>\n",
       "      <td>304081.672997</td>\n",
       "    </tr>\n",
       "  </tbody>\n",
       "</table>\n",
       "</div>"
      ],
      "text/plain": [
       "      Actual      Predicted\n",
       "0    35000.0  306476.247540\n",
       "1    14950.0  321703.285660\n",
       "2   885000.0  301441.501065\n",
       "3     4900.0  309976.010334\n",
       "4    65000.0  343008.859159\n",
       "5   949000.0  305493.857984\n",
       "6    24500.0  318326.321561\n",
       "7    39170.0  313844.169211\n",
       "8    69000.0  304327.270386\n",
       "9   119600.0  302915.085399\n",
       "10   19500.0  322440.077828\n",
       "11   16500.0  301994.095190\n",
       "12  359000.0  300766.108245\n",
       "13   14750.0  303774.676261\n",
       "14  185000.0  322440.077828\n",
       "15   44900.0  307642.835138\n",
       "16  106750.0  302608.088663\n",
       "17   58700.0  304020.273650\n",
       "18   67830.0  314458.162684\n",
       "19   27500.0  302485.289968\n",
       "20   12000.0  317405.331352\n",
       "21  195000.0  300766.108245\n",
       "22   12500.0  325080.249760\n",
       "23   50000.0  303590.478219\n",
       "24  205000.0  302546.689316\n",
       "25  160000.0  314826.558767\n",
       "26  690000.0  305923.653415\n",
       "27   85000.0  303897.474955\n",
       "28   48678.0  299906.517384\n",
       "29  480000.0  304081.672997"
      ]
     },
     "execution_count": 40,
     "metadata": {},
     "output_type": "execute_result"
    }
   ],
   "source": [
    "# Create a dataframe comparing the actual and predicted values of y.\n",
    "data = pd.DataFrame({'Actual': y_test.flatten(), 'Predicted': y_predicted.flatten()})\n",
    "data.head(30)"
   ]
  },
  {
   "cell_type": "markdown",
   "id": "e068fd61",
   "metadata": {},
   "source": [
    "### Thoughts on model performance:\n",
    "The model performed poorly on the test set. The high mean squared error (MSE) and negative R-squared (R2) score indicate that the model's predictions had significant errors and failed to explain the variance in the test data, suggesting that it doesn't fit the data well and is not a reliable predictor."
   ]
  },
  {
   "cell_type": "markdown",
   "id": "101dfd81",
   "metadata": {},
   "source": [
    "## 05. Export Dataframe"
   ]
  },
  {
   "cell_type": "code",
   "execution_count": 41,
   "id": "8a2bddab",
   "metadata": {},
   "outputs": [],
   "source": [
    "# Export dataframe as csv file.\n",
    "df.to_csv(os.path.join(path, '02 Data','Prepared Data', 'df_boats_sales.csv'))"
   ]
  },
  {
   "cell_type": "code",
   "execution_count": null,
   "id": "d3334acf",
   "metadata": {},
   "outputs": [],
   "source": []
  },
  {
   "cell_type": "code",
   "execution_count": null,
   "id": "bbf29ab5",
   "metadata": {},
   "outputs": [],
   "source": []
  },
  {
   "cell_type": "code",
   "execution_count": null,
   "id": "4d3ea459",
   "metadata": {},
   "outputs": [],
   "source": []
  }
 ],
 "metadata": {
  "kernelspec": {
   "display_name": "Python 3 (ipykernel)",
   "language": "python",
   "name": "python3"
  },
  "language_info": {
   "codemirror_mode": {
    "name": "ipython",
    "version": 3
   },
   "file_extension": ".py",
   "mimetype": "text/x-python",
   "name": "python",
   "nbconvert_exporter": "python",
   "pygments_lexer": "ipython3",
   "version": "3.11.4"
  }
 },
 "nbformat": 4,
 "nbformat_minor": 5
}
